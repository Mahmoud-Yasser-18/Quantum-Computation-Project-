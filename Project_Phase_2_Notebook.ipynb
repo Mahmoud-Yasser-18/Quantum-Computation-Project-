{
 "cells": [
  {
   "cell_type": "markdown",
   "metadata": {},
   "source": [
    "<h1><center>Solving the Lights Out Puzzle Using Grover's Algorithm</center></h1>\n",
    "<h2><center>Course Project</center></h2>\n",
    "<h3><center>CIE470</center></h3>\n",
    "<h3><center>Introduction to Quantum Information and Computation</center></h3>"
   ]
  },
  {
   "cell_type": "markdown",
   "metadata": {},
   "source": [
    "## Problem description: \n",
    "The Puzzle consists of an NxN grid of bulbs, where each bulb occupied a cell on the grid, and has its own switch, which when pressed switches the state of the bulb between \"on <----> off\". The grid starts off in an initial state of on-&-off bulbs, and you need to find the sequence of switch presses that would \"turn off all the lights\", hence the name, \"Lights-Out-Puzzle\".  \n",
    "\n",
    "Consider the initial state in the picture below, with yellow meaning the coresponding bulb is on, this is the setup we will have to solve for:"
   ]
  },
  {
   "cell_type": "markdown",
   "metadata": {},
   "source": [
    "<img src=\"initial_state.png\" style=\"width:200px;height:200px\"/>"
   ]
  },
  {
   "cell_type": "markdown",
   "metadata": {},
   "source": [
    "This corresponds to initial state :[0, 1, 1, 0, 0, 1, 1, 0, 0]"
   ]
  },
  {
   "cell_type": "code",
   "execution_count": null,
   "metadata": {},
   "outputs": [],
   "source": [
    "lights = [0, 1, 1, 0, 0, 1, 1, 0, 0] ## this is our variable holding the initial bulb states"
   ]
  },
  {
   "cell_type": "markdown",
   "metadata": {},
   "source": [
    "On flipping a switch, the corresponding bulb and the ones surrounding it have their states flipped similar to the illustration below:\n",
    "\n",
    "<img src=\"press_1.png\" style=\"width:200px;height:200px\"/>\n",
    "<img src=\"press_2.png\" style=\"width:200px;height:200px\"/>\n",
    "<img src=\"press_3.png\" style=\"width:200px;height:200px\"/>"
   ]
  },
  {
   "cell_type": "markdown",
   "metadata": {},
   "source": [
    "Our goal is to find the sequence of switch flips, ex [000000111], that would turn off all the lights, with a grid looking like the one below:\n",
    "\n",
    "<img src=\"lights_out.png\" style=\"width:200px;height:200px\"/>"
   ]
  },
  {
   "cell_type": "markdown",
   "metadata": {},
   "source": [
    "## Steps:"
   ]
  },
  {
   "cell_type": "markdown",
   "metadata": {},
   "source": [
    "#### A. Register Preparation: we need to setup the quantum and classical registers for the problem, which involves using 3 main quantum-registers and a classical-register.\n",
    "\n",
    "1. A register to hold the solution space of switch-states, since the solution to the problem is a set of 9 on/off(binary system) switches (we have a 3x3 grid of bulbs), call this register \"switch/var\".\n",
    "NB: remember a switch can be on or off (binary, and we can only flip a switch once), we therefore have $2^9$ possible states forming our state-space of possible solutions, a perfect candidate for mapping to a 9-qubit system.\n",
    "2. A control register which will carry temporary info about the state of the bulbs (bulb-states), and be used to determine if a given switch-state is a solution, call it \"bulb/ctrl\"\n",
    "3. An output qubit which will initiate a phase kickback if the control register (representing the bulb-states) reflects that a given switch-state is a solution.\n",
    "4. A classical register to store the measurements.  \n",
    "\n",
    "#### B. State initialization for our specific problem:\n",
    "To initilaize the circuit to map to our specific initial state to the register.\n",
    "\n",
    "#### C. Construct the problem Oracle:\n",
    "To construct an oracle that would assign a negative phase to the solution state.  \n",
    "\n",
    "#### D. Construct the Diffuser\n",
    " \n",
    "#### E. Construct the Grover-Circuit over the appropriate number of iterations\n",
    "\n",
    "#### F. Run the completed Grover-Circuit & Use the measurement to obtain the solution, which corresponds to the most probable state\n",
    "\n"
   ]
  },
  {
   "cell_type": "markdown",
   "metadata": {},
   "source": [
    "## Solution: \n",
    "\n",
    "### IMPORTANT:   \n",
    "#### You need to Place the appropriate code in front of the Question cells, please adjust your code so that it fits this framework, no other solution steps will be accepted, if you understood the first phase it should be very easy to follow this framework no matter how you approach the problem."
   ]
  },
  {
   "cell_type": "markdown",
   "metadata": {},
   "source": [
    "### A. Preparing registers before we initiate the states and apply an oracle and a Diffuser:"
   ]
  },
  {
   "cell_type": "markdown",
   "metadata": {},
   "source": [
    "#### Hint: your register will need 19 Qubits"
   ]
  },
  {
   "cell_type": "markdown",
   "metadata": {},
   "source": [
    "### Q1: Register preparation :"
   ]
  },
  {
   "cell_type": "code",
   "execution_count": null,
   "metadata": {},
   "outputs": [],
   "source": [
    "from qiskit import *\n",
    "\n",
    "'''\n",
    "Q1: Register preparation :\n",
    "................................................................................................  \n",
    "................................................................................................  \n",
    "................................................................................................  \n",
    "................................................................................................  \n",
    "................................................................................................  \n",
    "\n",
    " construct the circuit \"qc\" given below by combining 4 inputs consisting of:\n",
    " \n",
    " 3 quantum registers (switch, bulb, output) and a classical register (result) which returns an initial quantum circuit\n",
    "\n",
    "\n",
    "'''\n",
    "\n",
    "qc = QuantumCircuit(switch, bulb, output, result) ## a circuit combining all the registers"
   ]
  },
  {
   "cell_type": "markdown",
   "metadata": {},
   "source": [
    "### Iterations:\n",
    "\n",
    "We can always approximate the number of iterations Grover's algorithm needs to reach a solution given the number of winners and the size of our solution state-space, here we have $2^9$ solutions, from which only one is the winner, so describe how many iterations we will need below:"
   ]
  },
  {
   "cell_type": "markdown",
   "metadata": {},
   "source": [
    "### Q2: Iterations can be determined by :\n"
   ]
  },
  {
   "cell_type": "markdown",
   "metadata": {},
   "source": [
    "Q2: Describe how we determine the number of iterations and set the number of iterations for our case:\n",
    "\n",
    "................................................................................................  \n",
    "................................................................................................  \n",
    "................................................................................................  \n",
    "................................................................................................  \n",
    "................................................................................................"
   ]
  },
  {
   "cell_type": "code",
   "execution_count": null,
   "metadata": {},
   "outputs": [],
   "source": [
    "'''\n",
    "Q2: set Iterations variable:\n",
    "\n",
    "''' \n",
    "\n",
    "iterations = '''##''' ## initialize the iterations variable"
   ]
  },
  {
   "cell_type": "markdown",
   "metadata": {},
   "source": [
    "### B. State initialization for our specific problem:"
   ]
  },
  {
   "cell_type": "markdown",
   "metadata": {},
   "source": [
    "#### Next we need to define a function which\n",
    "A.  maps the initial bulb-state to the bulb register. for example ... initiate a [0, 1, 1, 0, 0, 1, 1, 0, 0] state, which would correspond to [off, on, on, off, off, on, on, off, off]\n",
    "\n",
    "B. initializes the $ \\left| S \\right\\rangle $ state (uniform superposition for the Grover circuit) \n",
    "\n",
    "C. Initializes the state of the Output Qubit which makes it suitable for phase kickback... you should know which state that is"
   ]
  },
  {
   "cell_type": "markdown",
   "metadata": {},
   "source": [
    "### Q3: Circuit initialization for the given lights-out setup :\n",
    "\n",
    "'''  \n",
    "Describe your code for this step:  \n",
    "................................................................................................  \n",
    "................................................................................................  \n",
    "................................................................................................  \n",
    "................................................................................................  \n",
    "................................................................................................  \n",
    "\n",
    "\n",
    "\n",
    "\n",
    "'''"
   ]
  },
  {
   "cell_type": "code",
   "execution_count": null,
   "metadata": {},
   "outputs": [],
   "source": [
    "## a function \"initialize\" with takes \"lights\" (the initial bulb-state) \"qc\" (our quantum circuit) \n",
    "## and qr (a temp variable for our register)\n",
    "\n",
    "def initialize(lights, qc, qr):\n",
    "    '''Q3: Circuit initialization'''\n",
    "    ## initialize:\n",
    "    '''\n",
    "    ................................................................................................  \n",
    "    ................................................................................................  \n",
    "\n",
    "    '''\n",
    "    ## initialize the state of the output qubit for phase kickback\n",
    "    '''\n",
    "    ................................................................................................  \n",
    "    ................................................................................................  \n",
    "\n",
    "    '''"
   ]
  },
  {
   "cell_type": "markdown",
   "metadata": {},
   "source": [
    "### C. Construct the problem Oracle:"
   ]
  },
  {
   "cell_type": "markdown",
   "metadata": {},
   "source": [
    "#### The Oracle consists of 2 parts, \n",
    "\n",
    "First, we must define how a switch-state from our solution state-space affects a bulb-state.  \n",
    "For example [111111110] is a switch-state where all switches have been flipped, except the last one. Since we know what switching a flip does we can translate this sequence of switch flips to an effect on a bulb-state.  \n",
    "Accordingly, the first part of the oracle runs a given switch-state yielding a final bulb-state.\n",
    "\n",
    "Second we must define what \"light-state\" constitutes a Winner. By definition, our Winner switch-state is the one which renders `ALL bulb-qubits off`. Therefore, the second part of the oracle needs to extract that piece of information from the \"bulbs\" register, so that in case of finding a winner it could initiate a flip in the output register. This flipping of the output register will in turn initiate a phase-kickback, and we get a negative sign infront of our winner, which is what the oracle does, and we're done.\n"
   ]
  },
  {
   "cell_type": "markdown",
   "metadata": {},
   "source": [
    "### Part 1 of the Oracle:  \n",
    "\n",
    "#### Q4: We need to define a function for the first part of the oracle below, which takes the prepared quantum circuit, some switch state, and the given initial bulb-state, and finally acts on the bulb-state accordingly.\n",
    "\n",
    "#### Hint: you will need a little bit more than 30 gates to achieve this."
   ]
  },
  {
   "cell_type": "markdown",
   "metadata": {},
   "source": [
    "'''    \n",
    "describe what your code does here for this step:  \n",
    "\n",
    "................................................................................................  \n",
    "................................................................................................  \n",
    "................................................................................................  \n",
    "................................................................................................  \n",
    "................................................................................................  \n",
    "\n",
    "\n",
    "'''"
   ]
  },
  {
   "cell_type": "code",
   "execution_count": null,
   "metadata": {},
   "outputs": [],
   "source": [
    "def switch_flip(qc,switch,bulb):\n",
    "    '''\n",
    "    Q4: We need to define a function for the first part of the oracle which translates what\n",
    "    flipping every switch does to the bulb-state\n",
    "    \n",
    "    \n",
    "       \n",
    "    describe what your code does here for this step:  \n",
    "\n",
    "    ................................................................................................  \n",
    "    ................................................................................................  \n",
    "    ................................................................................................  \n",
    "    ................................................................................................  \n",
    "    ................................................................................................  \n",
    "    ................................................................................................  \n",
    "    ................................................................................................  \n",
    "    ................................................................................................  \n",
    "    ................................................................................................  \n",
    "    ................................................................................................  \n",
    "    ................................................................................................  \n",
    "    ................................................................................................  \n",
    "    ................................................................................................  \n",
    "    ................................................................................................  \n",
    "    ................................................................................................  \n",
    "    ................................................................................................  \n",
    "    ................................................................................................  \n",
    "    ................................................................................................  \n",
    "    ................................................................................................\n",
    "    \n",
    "    \n",
    "    '''"
   ]
  },
  {
   "cell_type": "markdown",
   "metadata": {},
   "source": [
    "### Part 2 of the Oracle, then combining steps C, D & E into a function which constructs the second part of the Oracle, the Diffuser & obtain the completed Grover-Circuit over the appropriate number of iterations:"
   ]
  },
  {
   "cell_type": "markdown",
   "metadata": {},
   "source": [
    "#### Q5a: Complete the for loop below which runs our predetermined iterations of Grover.\n",
    "-applies the first part of the oracle (by calling a function)  \n",
    "-applies the second part of the oracle to check for the winner switch-state (Hint: a known gate can do this)  \n",
    "-uncomputes (you should know what that is)  \n",
    "-applies an appropriate diffuser  \n",
    "\n",
    "#### Q5b: finally measure the output\n",
    "Measure the switch-states from which we can infer the most probable answer.\n",
    "\n",
    "NB:  you can use the \"qc.reverse_bits()\" function on a \"qc\"-quantum circuit object to reverse the order of the bits to avoid Qiskit's annoying convention."
   ]
  },
  {
   "cell_type": "markdown",
   "metadata": {},
   "source": [
    "'''    \n",
    "describe what your code does here for these two steps:  \n",
    "\n",
    "................................................................................................  \n",
    "................................................................................................  \n",
    "................................................................................................  \n",
    "................................................................................................  \n",
    "................................................................................................  \n",
    "\n",
    "\n",
    "'''"
   ]
  },
  {
   "cell_type": "code",
   "execution_count": null,
   "metadata": {},
   "outputs": [],
   "source": [
    "initialize(lights, qc, bulb)\n",
    "\n",
    "for i in range(iterations):\n",
    "    '''Q5a:'''\n",
    "    '''First part of Oracle'''\n",
    "    \n",
    "    '''\n",
    "    Multi-qubit controlled gate\n",
    "    ................................................................................................  \n",
    "    ................................................................................................  \n",
    "    \n",
    "    '''\n",
    "    \n",
    "    '''\n",
    "    uncompute oracle\n",
    "    \n",
    "    '''\n",
    "    \n",
    "    # diffuser\n",
    "    \n",
    "    '''    \n",
    "    ................................................................................................  \n",
    "    ................................................................................................  \n",
    "    ................................................................................................  \n",
    "    ................................................................................................  \n",
    "    ................................................................................................\n",
    "\n",
    "    '''\n",
    "\n",
    "# Measure:\n",
    "'''\n",
    "Q5b:\n",
    "measurement\n",
    "    \n",
    "'''\n"
   ]
  },
  {
   "cell_type": "markdown",
   "metadata": {},
   "source": [
    "### F. Run the Grover-Circuit and use the measurement to obtain the solution:"
   ]
  },
  {
   "cell_type": "code",
   "execution_count": null,
   "metadata": {},
   "outputs": [],
   "source": [
    "## Running the completed Grover's circuit:\n",
    "\n",
    "sim = Aer.get_backend('qasm_simulator')\n",
    "\n",
    "job = execute(qc, backend=sim, shots=1000)\n",
    "result = job.result()\n",
    "count = result.get_counts()"
   ]
  },
  {
   "cell_type": "markdown",
   "metadata": {},
   "source": [
    "### Q6: Extract the solution form the results:"
   ]
  },
  {
   "cell_type": "markdown",
   "metadata": {},
   "source": [
    "'''   \n",
    "Q6  \n",
    "describe what your code does here for this final step, how do we extract the solution form the results:  \n",
    "\n",
    "................................................................................................  \n",
    "................................................................................................  \n",
    "................................................................................................  \n",
    "................................................................................................  \n",
    "................................................................................................  \n",
    "\n",
    "\n",
    "'''"
   ]
  },
  {
   "cell_type": "code",
   "execution_count": null,
   "metadata": {},
   "outputs": [],
   "source": [
    "''' Q6:\n",
    "\n",
    "Code to extract solution\n",
    "\n",
    "'''"
   ]
  },
  {
   "cell_type": "markdown",
   "metadata": {},
   "source": [
    "### Final Remarks: Wrap up your steps, talk briefly about your code and summarize the results and conclusion:  \n",
    "\n",
    "................................................................................................  \n",
    "................................................................................................  \n",
    "................................................................................................  \n",
    "................................................................................................  \n",
    "................................................................................................  \n"
   ]
  },
  {
   "cell_type": "markdown",
   "metadata": {},
   "source": [
    "<h3><center>.........................................................  END .............................................................</center></h3>"
   ]
  }
 ],
 "metadata": {
  "kernelspec": {
   "display_name": "Python [conda env:Qiskit] *",
   "language": "python",
   "name": "conda-env-Qiskit-py"
  },
  "language_info": {
   "codemirror_mode": {
    "name": "ipython",
    "version": 3
   },
   "file_extension": ".py",
   "mimetype": "text/x-python",
   "name": "python",
   "nbconvert_exporter": "python",
   "pygments_lexer": "ipython3",
   "version": "3.8.5"
  }
 },
 "nbformat": 4,
 "nbformat_minor": 4
}
